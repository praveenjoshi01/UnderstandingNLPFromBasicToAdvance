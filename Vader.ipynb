{
 "cells": [
  {
   "cell_type": "markdown",
   "metadata": {},
   "source": [
    "# Sneak Peak into VADER"
   ]
  },
  {
   "cell_type": "code",
   "execution_count": null,
   "metadata": {},
   "outputs": [],
   "source": []
  },
  {
   "cell_type": "code",
   "execution_count": 1,
   "metadata": {},
   "outputs": [],
   "source": [
    "import nltk\n",
    "#nltk.download()"
   ]
  },
  {
   "cell_type": "code",
   "execution_count": 2,
   "metadata": {},
   "outputs": [
    {
     "name": "stderr",
     "output_type": "stream",
     "text": [
      "C:\\PySoftware\\lib\\site-packages\\nltk\\twitter\\__init__.py:20: UserWarning: The twython library has not been installed. Some functionality from the twitter package will not be available.\n",
      "  warnings.warn(\"The twython library has not been installed. \"\n"
     ]
    }
   ],
   "source": [
    "from nltk.sentiment import vader"
   ]
  },
  {
   "cell_type": "code",
   "execution_count": 3,
   "metadata": {},
   "outputs": [],
   "source": [
    "sia= vader.SentimentIntensityAnalyzer()"
   ]
  },
  {
   "cell_type": "code",
   "execution_count": 4,
   "metadata": {},
   "outputs": [
    {
     "data": {
      "text/plain": [
       "{'compound': -0.4767, 'neg': 0.608, 'neu': 0.392, 'pos': 0.0}"
      ]
     },
     "execution_count": 4,
     "metadata": {},
     "output_type": "execute_result"
    }
   ],
   "source": [
    "sia.polarity_scores(\"What a terrible restraunt\")"
   ]
  },
  {
   "cell_type": "code",
   "execution_count": 5,
   "metadata": {},
   "outputs": [
    {
     "data": {
      "text/plain": [
       "{'compound': -0.4767, 'neg': 1.0, 'neu': 0.0, 'pos': 0.0}"
      ]
     },
     "execution_count": 5,
     "metadata": {},
     "output_type": "execute_result"
    }
   ],
   "source": [
    "sia.polarity_scores(\"terrible\")"
   ]
  },
  {
   "cell_type": "code",
   "execution_count": 6,
   "metadata": {},
   "outputs": [],
   "source": [
    "#Emoticon support"
   ]
  },
  {
   "cell_type": "code",
   "execution_count": 7,
   "metadata": {},
   "outputs": [
    {
     "data": {
      "text/plain": [
       "{'compound': 0.5106, 'neg': 0.0, 'neu': 0.0, 'pos': 1.0}"
      ]
     },
     "execution_count": 7,
     "metadata": {},
     "output_type": "execute_result"
    }
   ],
   "source": [
    "sia.polarity_scores(\":D\")"
   ]
  },
  {
   "cell_type": "code",
   "execution_count": 8,
   "metadata": {},
   "outputs": [
    {
     "data": {
      "text/plain": [
       "{'compound': -0.34, 'neg': 1.0, 'neu': 0.0, 'pos': 0.0}"
      ]
     },
     "execution_count": 8,
     "metadata": {},
     "output_type": "execute_result"
    }
   ],
   "source": [
    "sia.polarity_scores(\":/\")"
   ]
  },
  {
   "cell_type": "code",
   "execution_count": 9,
   "metadata": {},
   "outputs": [],
   "source": [
    "#Idiom support"
   ]
  },
  {
   "cell_type": "code",
   "execution_count": 10,
   "metadata": {},
   "outputs": [
    {
     "data": {
      "text/plain": [
       "{'compound': -0.6124, 'neg': 0.5, 'neu': 0.5, 'pos': 0.0}"
      ]
     },
     "execution_count": 10,
     "metadata": {},
     "output_type": "execute_result"
    }
   ],
   "source": [
    "sia.polarity_scores(\"the cumin was the kiss of death\")"
   ]
  },
  {
   "cell_type": "code",
   "execution_count": 11,
   "metadata": {},
   "outputs": [],
   "source": [
    "#Punctuation support"
   ]
  },
  {
   "cell_type": "code",
   "execution_count": 12,
   "metadata": {},
   "outputs": [
    {
     "data": {
      "text/plain": [
       "{'compound': 0.4404, 'neg': 0.0, 'neu': 0.508, 'pos': 0.492}"
      ]
     },
     "execution_count": 12,
     "metadata": {},
     "output_type": "execute_result"
    }
   ],
   "source": [
    "sia.polarity_scores(\"the food was good\")"
   ]
  },
  {
   "cell_type": "code",
   "execution_count": 13,
   "metadata": {},
   "outputs": [
    {
     "data": {
      "text/plain": [
       "{'compound': 0.5826, 'neg': 0.0, 'neu': 0.443, 'pos': 0.557}"
      ]
     },
     "execution_count": 13,
     "metadata": {},
     "output_type": "execute_result"
    }
   ],
   "source": [
    "sia.polarity_scores(\"the food was good!!!\")"
   ]
  },
  {
   "cell_type": "code",
   "execution_count": 14,
   "metadata": {},
   "outputs": [],
   "source": [
    "#Negation support"
   ]
  },
  {
   "cell_type": "code",
   "execution_count": 15,
   "metadata": {},
   "outputs": [
    {
     "data": {
      "text/plain": [
       "{'compound': 0.5826, 'neg': 0.0, 'neu': 0.443, 'pos': 0.557}"
      ]
     },
     "execution_count": 15,
     "metadata": {},
     "output_type": "execute_result"
    }
   ],
   "source": [
    "sia.polarity_scores(\"the food was good!!!\")"
   ]
  },
  {
   "cell_type": "code",
   "execution_count": 16,
   "metadata": {},
   "outputs": [
    {
     "data": {
      "text/plain": [
       "{'compound': -0.5076, 'neg': 0.451, 'neu': 0.549, 'pos': 0.0}"
      ]
     },
     "execution_count": 16,
     "metadata": {},
     "output_type": "execute_result"
    }
   ],
   "source": [
    "sia.polarity_scores(\"the food was not good!!!\")"
   ]
  },
  {
   "cell_type": "code",
   "execution_count": 17,
   "metadata": {},
   "outputs": [
    {
     "data": {
      "text/plain": [
       "{'compound': 0.6334, 'neg': 0.0, 'neu': 0.545, 'pos': 0.455}"
      ]
     },
     "execution_count": 17,
     "metadata": {},
     "output_type": "execute_result"
    }
   ],
   "source": [
    "sia.polarity_scores(\"the food was not the worst!!!\")"
   ]
  },
  {
   "cell_type": "code",
   "execution_count": 18,
   "metadata": {},
   "outputs": [],
   "source": [
    "#Emphasis support"
   ]
  },
  {
   "cell_type": "code",
   "execution_count": 19,
   "metadata": {},
   "outputs": [],
   "source": [
    "#E1.Captilisation"
   ]
  },
  {
   "cell_type": "code",
   "execution_count": 20,
   "metadata": {},
   "outputs": [
    {
     "data": {
      "text/plain": [
       "{'compound': 0.4404, 'neg': 0.0, 'neu': 0.508, 'pos': 0.492}"
      ]
     },
     "execution_count": 20,
     "metadata": {},
     "output_type": "execute_result"
    }
   ],
   "source": [
    "sia.polarity_scores(\"the food was good\")"
   ]
  },
  {
   "cell_type": "code",
   "execution_count": 21,
   "metadata": {},
   "outputs": [
    {
     "data": {
      "text/plain": [
       "{'compound': 0.5622, 'neg': 0.0, 'neu': 0.452, 'pos': 0.548}"
      ]
     },
     "execution_count": 21,
     "metadata": {},
     "output_type": "execute_result"
    }
   ],
   "source": [
    "sia.polarity_scores(\"the food was GOOD\")"
   ]
  },
  {
   "cell_type": "code",
   "execution_count": 22,
   "metadata": {},
   "outputs": [],
   "source": [
    "#E2.Boosters Word"
   ]
  },
  {
   "cell_type": "code",
   "execution_count": 23,
   "metadata": {},
   "outputs": [
    {
     "data": {
      "text/plain": [
       "{'compound': 0.4404, 'neg': 0.0, 'neu': 0.508, 'pos': 0.492}"
      ]
     },
     "execution_count": 23,
     "metadata": {},
     "output_type": "execute_result"
    }
   ],
   "source": [
    "sia.polarity_scores(\"the food was good\")"
   ]
  },
  {
   "cell_type": "code",
   "execution_count": 24,
   "metadata": {},
   "outputs": [
    {
     "data": {
      "text/plain": [
       "{'compound': 0.5777, 'neg': 0.0, 'neu': 0.517, 'pos': 0.483}"
      ]
     },
     "execution_count": 24,
     "metadata": {},
     "output_type": "execute_result"
    }
   ],
   "source": [
    "sia.polarity_scores(\"the food was so good\")"
   ]
  },
  {
   "cell_type": "code",
   "execution_count": 25,
   "metadata": {},
   "outputs": [],
   "source": [
    "#Contrast support"
   ]
  },
  {
   "cell_type": "code",
   "execution_count": 26,
   "metadata": {},
   "outputs": [
    {
     "data": {
      "text/plain": [
       "{'compound': 0.3818, 'neg': 0.186, 'neu': 0.496, 'pos': 0.318}"
      ]
     },
     "execution_count": 26,
     "metadata": {},
     "output_type": "execute_result"
    }
   ],
   "source": [
    "sia.polarity_scores(\"the food was bad but service was good\")"
   ]
  },
  {
   "cell_type": "code",
   "execution_count": 27,
   "metadata": {},
   "outputs": [
    {
     "data": {
      "text/plain": [
       "{'compound': 0.3506, 'neg': 0.205, 'neu': 0.457, 'pos': 0.338}"
      ]
     },
     "execution_count": 27,
     "metadata": {},
     "output_type": "execute_result"
    }
   ],
   "source": [
    "sia.polarity_scores(\"the food was bad but I liked it\")"
   ]
  },
  {
   "cell_type": "code",
   "execution_count": 28,
   "metadata": {},
   "outputs": [],
   "source": [
    "#vader behavior towards \"and\" is not justifiable"
   ]
  },
  {
   "cell_type": "code",
   "execution_count": 29,
   "metadata": {},
   "outputs": [
    {
     "data": {
      "text/plain": [
       "{'compound': -0.1779, 'neg': 0.31, 'neu': 0.442, 'pos': 0.248}"
      ]
     },
     "execution_count": 29,
     "metadata": {},
     "output_type": "execute_result"
    }
   ],
   "source": [
    "sia.polarity_scores(\"the food was bad and I liked this\")"
   ]
  },
  {
   "cell_type": "code",
   "execution_count": null,
   "metadata": {},
   "outputs": [],
   "source": []
  },
  {
   "cell_type": "markdown",
   "metadata": {},
   "source": [
    "# Implementing A Rule-based Approach using Vader"
   ]
  },
  {
   "cell_type": "markdown",
   "metadata": {},
   "source": [
    "## VADER on Cornell's Movie Review Data"
   ]
  },
  {
   "cell_type": "code",
   "execution_count": null,
   "metadata": {},
   "outputs": [],
   "source": []
  },
  {
   "cell_type": "raw",
   "metadata": {},
   "source": [
    "1.Download Corpurs ~10000 preclassified reviews \n",
    "2.Classify with Vader = '+' or'-' vader compound score to decide\n",
    "3.Measure Accuracy = calculate % accuracy"
   ]
  },
  {
   "cell_type": "code",
   "execution_count": 30,
   "metadata": {},
   "outputs": [],
   "source": [
    "# Corpus can be downloaded from http://www.cs.cornell.edu/people/pabo/movie-review-data/rt-polaritydata.tar.gz"
   ]
  },
  {
   "cell_type": "code",
   "execution_count": 31,
   "metadata": {},
   "outputs": [],
   "source": [
    "# positiveReviews, negativeReviews - list"
   ]
  },
  {
   "cell_type": "code",
   "execution_count": 32,
   "metadata": {},
   "outputs": [],
   "source": [
    "positiveReview = \"C:\\\\Users\\\\praveen ji\\\\Desktop\\\\requiredDoc\\\\PyCode\\\\Dataset\\\\rt-polaritydata\\\\rt-polaritydata\\\\rt-polarity.pos\"\n",
    "with open(positiveReview,'r') as f:\n",
    "    positiveReviews = f.readlines()"
   ]
  },
  {
   "cell_type": "code",
   "execution_count": 33,
   "metadata": {},
   "outputs": [],
   "source": [
    "negativeReview = \"C:\\\\Users\\\\praveen ji\\\\Desktop\\\\requiredDoc\\\\PyCode\\\\Dataset\\\\rt-polaritydata\\\\rt-polaritydata\\\\rt-polarity.neg\"\n",
    "with open(negativeReview,'r') as f:\n",
    "    negativeReviews = f.readlines()"
   ]
  },
  {
   "cell_type": "code",
   "execution_count": 34,
   "metadata": {},
   "outputs": [],
   "source": [
    "#check first positive review"
   ]
  },
  {
   "cell_type": "code",
   "execution_count": 35,
   "metadata": {},
   "outputs": [
    {
     "data": {
      "text/plain": [
       "'the rock is destined to be the 21st century\\'s new \" conan \" and that he\\'s going to make a splash even greater than arnold schwarzenegger , jean-claud van damme or steven segal . \\n'"
      ]
     },
     "execution_count": 35,
     "metadata": {},
     "output_type": "execute_result"
    }
   ],
   "source": [
    "positiveReviews[0]"
   ]
  },
  {
   "cell_type": "code",
   "execution_count": 36,
   "metadata": {},
   "outputs": [
    {
     "data": {
      "text/plain": [
       "5331"
      ]
     },
     "execution_count": 36,
     "metadata": {},
     "output_type": "execute_result"
    }
   ],
   "source": [
    "len(positiveReviews)"
   ]
  },
  {
   "cell_type": "code",
   "execution_count": 37,
   "metadata": {},
   "outputs": [],
   "source": [
    "#check first negative review"
   ]
  },
  {
   "cell_type": "code",
   "execution_count": 38,
   "metadata": {},
   "outputs": [
    {
     "data": {
      "text/plain": [
       "'simplistic , silly and tedious . \\n'"
      ]
     },
     "execution_count": 38,
     "metadata": {},
     "output_type": "execute_result"
    }
   ],
   "source": [
    "negativeReviews[0]"
   ]
  },
  {
   "cell_type": "code",
   "execution_count": 39,
   "metadata": {},
   "outputs": [
    {
     "data": {
      "text/plain": [
       "5331"
      ]
     },
     "execution_count": 39,
     "metadata": {},
     "output_type": "execute_result"
    }
   ],
   "source": [
    "len(negativeReviews)"
   ]
  },
  {
   "cell_type": "code",
   "execution_count": 40,
   "metadata": {},
   "outputs": [],
   "source": [
    "# A simple function invoking VADER ~ relying completely upon compound score"
   ]
  },
  {
   "cell_type": "code",
   "execution_count": 41,
   "metadata": {},
   "outputs": [],
   "source": [
    "sia= vader.SentimentIntensityAnalyzer()"
   ]
  },
  {
   "cell_type": "code",
   "execution_count": 42,
   "metadata": {},
   "outputs": [],
   "source": [
    "def vaderSentiment(review):\n",
    "    return sia.polarity_scores(review)['compound']"
   ]
  },
  {
   "cell_type": "code",
   "execution_count": 43,
   "metadata": {},
   "outputs": [],
   "source": [
    "#check function "
   ]
  },
  {
   "cell_type": "code",
   "execution_count": 44,
   "metadata": {},
   "outputs": [
    {
     "data": {
      "text/plain": [
       "0.6369"
      ]
     },
     "execution_count": 44,
     "metadata": {},
     "output_type": "execute_result"
    }
   ],
   "source": [
    "review =\"this is the best restraunt in the city\"\n",
    "vaderSentiment(review)"
   ]
  },
  {
   "cell_type": "code",
   "execution_count": 45,
   "metadata": {},
   "outputs": [],
   "source": [
    "#applying VADER to the reviews"
   ]
  },
  {
   "cell_type": "code",
   "execution_count": 46,
   "metadata": {},
   "outputs": [
    {
     "data": {
      "text/plain": [
       "[0.0258,\n",
       " 0.4404,\n",
       " 0.0,\n",
       " -0.25,\n",
       " 0.0,\n",
       " 0.4939,\n",
       " 0.0,\n",
       " 0.0,\n",
       " -0.34,\n",
       " -0.3612,\n",
       " -0.3678,\n",
       " 0.397,\n",
       " -0.0384,\n",
       " -0.836,\n",
       " 0.3818,\n",
       " -0.2565,\n",
       " 0.4404,\n",
       " 0.4199,\n",
       " 0.0772,\n",
       " 0.0,\n",
       " 0.7346,\n",
       " -0.3559,\n",
       " 0.2732,\n",
       " -0.0516,\n",
       " 0.4939,\n",
       " 0.4019,\n",
       " -0.5423,\n",
       " -0.8887,\n",
       " 0.6068,\n",
       " -0.296,\n",
       " 0.0772,\n",
       " 0.0,\n",
       " 0.5267,\n",
       " 0.4939,\n",
       " -0.7845,\n",
       " -0.5865,\n",
       " 0.0258,\n",
       " -0.2457,\n",
       " -0.5789,\n",
       " 0.0,\n",
       " -0.25,\n",
       " -0.6808,\n",
       " 0.4588,\n",
       " 0.5574,\n",
       " 0.802,\n",
       " -0.4767,\n",
       " 0.6124,\n",
       " -0.4767,\n",
       " -0.7579,\n",
       " 0.0,\n",
       " -0.5562,\n",
       " 0.0516,\n",
       " 0.6369,\n",
       " -0.4767,\n",
       " -0.5574,\n",
       " 0.4404,\n",
       " 0.8658,\n",
       " 0.0,\n",
       " 0.3477,\n",
       " 0.5574,\n",
       " -0.8591,\n",
       " -0.5574,\n",
       " -0.5994,\n",
       " 0.128,\n",
       " 0.1154,\n",
       " 0.34,\n",
       " 0.2509,\n",
       " 0.4404,\n",
       " -0.4767,\n",
       " 0.0,\n",
       " 0.0,\n",
       " -0.144,\n",
       " 0.4215,\n",
       " 0.0,\n",
       " 0.2846,\n",
       " -0.5267,\n",
       " 0.0,\n",
       " -0.0258,\n",
       " -0.2235,\n",
       " -0.4824,\n",
       " 0.5095,\n",
       " -0.4215,\n",
       " 0.4402,\n",
       " 0.4019,\n",
       " -0.7269,\n",
       " 0.0,\n",
       " 0.875,\n",
       " 0.4767,\n",
       " -0.3239,\n",
       " 0.1779,\n",
       " 0.8497,\n",
       " 0.4404,\n",
       " 0.0,\n",
       " 0.3612,\n",
       " 0.802,\n",
       " -0.1263,\n",
       " -0.3612,\n",
       " 0.5994,\n",
       " 0.0,\n",
       " 0.0,\n",
       " -0.4391,\n",
       " -0.6369,\n",
       " 0.34,\n",
       " 0.2263,\n",
       " 0.0,\n",
       " 0.7715,\n",
       " -0.5096,\n",
       " -0.1263,\n",
       " -0.3612,\n",
       " -0.835,\n",
       " 0.2732,\n",
       " -0.4019,\n",
       " -0.8201,\n",
       " -0.6486,\n",
       " 0.0,\n",
       " -0.2382,\n",
       " 0.631,\n",
       " -0.6351,\n",
       " -0.3182,\n",
       " 0.0451,\n",
       " -0.4168,\n",
       " -0.2263,\n",
       " -0.2263,\n",
       " 0.4019,\n",
       " -0.296,\n",
       " 0.0,\n",
       " 0.1027,\n",
       " -0.3089,\n",
       " 0.0,\n",
       " 0.3612,\n",
       " 0.296,\n",
       " -0.4215,\n",
       " -0.3804,\n",
       " -0.3337,\n",
       " 0.6124,\n",
       " -0.2782,\n",
       " 0.0258,\n",
       " 0.4118,\n",
       " 0.3612,\n",
       " 0.2263,\n",
       " 0.4939,\n",
       " 0.3016,\n",
       " 0.4939,\n",
       " 0.9273,\n",
       " 0.785,\n",
       " 0.5106,\n",
       " -0.5423,\n",
       " 0.5267,\n",
       " 0.0,\n",
       " 0.743,\n",
       " 0.0,\n",
       " 0.0,\n",
       " -0.8074,\n",
       " -0.4019,\n",
       " 0.4767,\n",
       " 0.4939,\n",
       " -0.6077,\n",
       " -0.296,\n",
       " -0.5106,\n",
       " 0.4555,\n",
       " 0.7184,\n",
       " 0.0258,\n",
       " -0.6369,\n",
       " -0.4404,\n",
       " 0.0258,\n",
       " 0.0,\n",
       " 0.0,\n",
       " -0.6501,\n",
       " -0.2732,\n",
       " 0.6038,\n",
       " -0.5574,\n",
       " -0.4991,\n",
       " 0.4019,\n",
       " -0.4404,\n",
       " 0.0,\n",
       " -0.865,\n",
       " 0.0,\n",
       " 0.7234,\n",
       " -0.4404,\n",
       " -0.3182,\n",
       " -0.5095,\n",
       " -0.4717,\n",
       " 0.7579,\n",
       " 0.0258,\n",
       " -0.25,\n",
       " -0.0516,\n",
       " 0.2846,\n",
       " 0.836,\n",
       " 0.0,\n",
       " 0.6369,\n",
       " -0.4497,\n",
       " 0.0,\n",
       " -0.1779,\n",
       " -0.4939,\n",
       " 0.1531,\n",
       " 0.0,\n",
       " 0.0,\n",
       " 0.0,\n",
       " -0.6397,\n",
       " -0.5574,\n",
       " 0.775,\n",
       " 0.0258,\n",
       " -0.7506,\n",
       " -0.2183,\n",
       " -0.0516,\n",
       " 0.25,\n",
       " -0.76,\n",
       " -0.3412,\n",
       " 0.0,\n",
       " 0.296,\n",
       " -0.6808,\n",
       " -0.4173,\n",
       " 0.2272,\n",
       " 0.4588,\n",
       " 0.5859,\n",
       " 0.2052,\n",
       " -0.7096,\n",
       " 0.875,\n",
       " -0.2484,\n",
       " 0.0,\n",
       " 0.0,\n",
       " 0.1027,\n",
       " -0.0129,\n",
       " -0.3818,\n",
       " 0.6428,\n",
       " 0.0,\n",
       " 0.0,\n",
       " 0.7717,\n",
       " -0.6249,\n",
       " 0.0,\n",
       " -0.6249,\n",
       " -0.09,\n",
       " -0.3252,\n",
       " 0.6486,\n",
       " 0.0118,\n",
       " 0.0,\n",
       " -0.4939,\n",
       " 0.6027,\n",
       " 0.6059,\n",
       " -0.5574,\n",
       " 0.5574,\n",
       " 0.6779,\n",
       " 0.0,\n",
       " 0.0,\n",
       " -0.1027,\n",
       " -0.0772,\n",
       " -0.2078,\n",
       " 0.2263,\n",
       " 0.0,\n",
       " 0.0772,\n",
       " 0.3182,\n",
       " 0.8617,\n",
       " -0.5106,\n",
       " 0.1531,\n",
       " -0.7184,\n",
       " 0.0,\n",
       " -0.1027,\n",
       " 0.4939,\n",
       " -0.4215,\n",
       " -0.743,\n",
       " 0.0,\n",
       " 0.1779,\n",
       " -0.5423,\n",
       " 0.0,\n",
       " 0.4492,\n",
       " 0.3182,\n",
       " -0.3089,\n",
       " 0.4404,\n",
       " 0.5499,\n",
       " 0.2259,\n",
       " -0.2462,\n",
       " 0.0,\n",
       " -0.802,\n",
       " -0.765,\n",
       " 0.0258,\n",
       " 0.0258,\n",
       " -0.8885,\n",
       " 0.0,\n",
       " -0.7351,\n",
       " 0.3612,\n",
       " -0.4404,\n",
       " 0.4995,\n",
       " 0.3182,\n",
       " -0.34,\n",
       " 0.7517,\n",
       " 0.8126,\n",
       " 0.7693,\n",
       " 0.1984,\n",
       " 0.3818,\n",
       " -0.8885,\n",
       " -0.2074,\n",
       " 0.0,\n",
       " -0.25,\n",
       " -0.34,\n",
       " -0.1779,\n",
       " 0.0067,\n",
       " -0.6765,\n",
       " 0.0,\n",
       " 0.6124,\n",
       " 0.4215,\n",
       " 0.0,\n",
       " -0.5267,\n",
       " -0.6606,\n",
       " 0.3818,\n",
       " 0.8225,\n",
       " 0.25,\n",
       " -0.743,\n",
       " -0.1531,\n",
       " -0.6361,\n",
       " 0.8769,\n",
       " 0.7897,\n",
       " 0.0,\n",
       " 0.0,\n",
       " -0.3412,\n",
       " -0.0516,\n",
       " 0.1901,\n",
       " 0.5859,\n",
       " 0.1901,\n",
       " 0.1531,\n",
       " 0.0,\n",
       " 0.0,\n",
       " 0.5994,\n",
       " 0.25,\n",
       " -0.34,\n",
       " 0.875,\n",
       " -0.2926,\n",
       " 0.3632,\n",
       " -0.5267,\n",
       " -0.4939,\n",
       " 0.2732,\n",
       " 0.0,\n",
       " -0.5106,\n",
       " -0.6124,\n",
       " 0.4144,\n",
       " 0.0772,\n",
       " 0.0,\n",
       " 0.4724,\n",
       " -0.2023,\n",
       " 0.0,\n",
       " 0.4588,\n",
       " -0.6808,\n",
       " 0.0,\n",
       " 0.1126,\n",
       " 0.25,\n",
       " -0.25,\n",
       " 0.0,\n",
       " -0.4497,\n",
       " 0.2263,\n",
       " -0.1779,\n",
       " 0.0,\n",
       " 0.128,\n",
       " -0.3744,\n",
       " 0.0818,\n",
       " 0.2732,\n",
       " 0.5719,\n",
       " 0.0,\n",
       " 0.2865,\n",
       " 0.5859,\n",
       " 0.8176,\n",
       " 0.6369,\n",
       " 0.5859,\n",
       " 0.2922,\n",
       " 0.0,\n",
       " -0.5256,\n",
       " -0.3182,\n",
       " 0.2144,\n",
       " 0.0,\n",
       " 0.3612,\n",
       " 0.0,\n",
       " -0.0772,\n",
       " 0.6369,\n",
       " -0.5994,\n",
       " 0.0,\n",
       " 0.4404,\n",
       " 0.1154,\n",
       " 0.5063,\n",
       " 0.25,\n",
       " 0.8004,\n",
       " 0.3597,\n",
       " -0.3182,\n",
       " -0.3818,\n",
       " 0.6249,\n",
       " 0.0,\n",
       " 0.4404,\n",
       " 0.0,\n",
       " -0.8074,\n",
       " 0.6705,\n",
       " 0.25,\n",
       " 0.0,\n",
       " -0.1531,\n",
       " 0.4404,\n",
       " 0.5106,\n",
       " -0.4588,\n",
       " 0.0,\n",
       " 0.541,\n",
       " 0.0387,\n",
       " -0.8316,\n",
       " 0.4019,\n",
       " 0.0,\n",
       " 0.1779,\n",
       " 0.0772,\n",
       " 0.3612,\n",
       " 0.3612,\n",
       " 0.1531,\n",
       " 0.8511,\n",
       " 0.0,\n",
       " 0.128,\n",
       " 0.2263,\n",
       " 0.6435,\n",
       " 0.501,\n",
       " -0.5429,\n",
       " -0.8501,\n",
       " -0.4767,\n",
       " 0.4215,\n",
       " 0.7845,\n",
       " -0.3818,\n",
       " 0.3724,\n",
       " -0.8031,\n",
       " 0.296,\n",
       " 0.5859,\n",
       " 0.0,\n",
       " 0.0,\n",
       " 0.1027,\n",
       " -0.5719,\n",
       " 0.431,\n",
       " 0.1027,\n",
       " -0.7906,\n",
       " 0.0772,\n",
       " 0.4939,\n",
       " -0.25,\n",
       " 0.5859,\n",
       " -0.8658,\n",
       " 0.4497,\n",
       " 0.0,\n",
       " -0.296,\n",
       " 0.0,\n",
       " -0.5106,\n",
       " 0.5267,\n",
       " -0.5719,\n",
       " 0.6597,\n",
       " 0.0,\n",
       " 0.4019,\n",
       " -0.743,\n",
       " 0.3612,\n",
       " -0.6124,\n",
       " 0.0,\n",
       " -0.296,\n",
       " 0.0,\n",
       " 0.765,\n",
       " 0.6868,\n",
       " 0.3612,\n",
       " 0.8626,\n",
       " 0.296,\n",
       " -0.0077,\n",
       " 0.0,\n",
       " -0.3182,\n",
       " 0.25,\n",
       " 0.0,\n",
       " -0.7906,\n",
       " 0.6369,\n",
       " 0.8957,\n",
       " 0.736,\n",
       " 0.0,\n",
       " 0.0,\n",
       " 0.0,\n",
       " -0.0834,\n",
       " 0.0772,\n",
       " 0.2382,\n",
       " -0.1045,\n",
       " 0.0,\n",
       " 0.1531,\n",
       " -0.4019,\n",
       " -0.2732,\n",
       " -0.3612,\n",
       " 0.6378,\n",
       " -0.8225,\n",
       " -0.34,\n",
       " -0.25,\n",
       " -0.3612,\n",
       " 0.0,\n",
       " 0.0,\n",
       " -0.2732,\n",
       " -0.3818,\n",
       " 0.5106,\n",
       " 0.0,\n",
       " 0.7184,\n",
       " -0.3612,\n",
       " 0.6486,\n",
       " 0.0,\n",
       " 0.2023,\n",
       " -0.7645,\n",
       " 0.4336,\n",
       " -0.3612,\n",
       " 0.4939,\n",
       " -0.1298,\n",
       " 0.4767,\n",
       " -0.2732,\n",
       " -0.2023,\n",
       " -0.4588,\n",
       " 0.0,\n",
       " -0.6602,\n",
       " 0.6251,\n",
       " -0.6249,\n",
       " 0.1531,\n",
       " 0.4019,\n",
       " 0.5574,\n",
       " 0.0,\n",
       " 0.3818,\n",
       " 0.0,\n",
       " 0.0,\n",
       " 0.2263,\n",
       " 0.0,\n",
       " 0.3182,\n",
       " -0.9252,\n",
       " 0.0,\n",
       " 0.7884,\n",
       " 0.0,\n",
       " 0.0,\n",
       " -0.1027,\n",
       " 0.5574,\n",
       " 0.2111,\n",
       " -0.5423,\n",
       " 0.0,\n",
       " 0.3612,\n",
       " 0.2732,\n",
       " 0.6856,\n",
       " 0.0,\n",
       " 0.0,\n",
       " -0.296,\n",
       " 0.6932,\n",
       " 0.0,\n",
       " 0.0258,\n",
       " -0.765,\n",
       " 0.5145,\n",
       " 0.4019,\n",
       " 0.0516,\n",
       " -0.34,\n",
       " 0.2732,\n",
       " 0.4215,\n",
       " -0.4404,\n",
       " 0.3707,\n",
       " 0.7579,\n",
       " -0.5446,\n",
       " -0.0972,\n",
       " 0.4019,\n",
       " 0.5627,\n",
       " 0.0,\n",
       " -0.3919,\n",
       " 0.8176,\n",
       " 0.0,\n",
       " 0.818,\n",
       " 0.0,\n",
       " 0.0,\n",
       " 0.6231,\n",
       " 0.6187,\n",
       " 0.397,\n",
       " 0.9246,\n",
       " 0.5267,\n",
       " 0.836,\n",
       " -0.6326,\n",
       " 0.3182,\n",
       " 0.5096,\n",
       " 0.6077,\n",
       " 0.0,\n",
       " -0.4215,\n",
       " -0.4019,\n",
       " -0.3138,\n",
       " 0.4574,\n",
       " 0.8979,\n",
       " 0.7003,\n",
       " 0.7184,\n",
       " -0.7096,\n",
       " 0.8294,\n",
       " 0.0,\n",
       " -0.4404,\n",
       " 0.0757,\n",
       " 0.8481,\n",
       " 0.1779,\n",
       " 0.3291,\n",
       " -0.4527,\n",
       " 0.0258,\n",
       " 0.0697,\n",
       " -0.7717,\n",
       " 0.4159,\n",
       " -0.6486,\n",
       " 0.0,\n",
       " -0.1531,\n",
       " 0.0,\n",
       " 0.0,\n",
       " -0.3612,\n",
       " -0.7184,\n",
       " 0.4585,\n",
       " 0.0,\n",
       " -0.2732,\n",
       " -0.836,\n",
       " -0.5106,\n",
       " -0.4971,\n",
       " -0.1298,\n",
       " -0.1136,\n",
       " 0.0,\n",
       " 0.1531,\n",
       " -0.4404,\n",
       " -0.6808,\n",
       " -0.0516,\n",
       " -0.8173,\n",
       " 0.7783,\n",
       " 0.0,\n",
       " 0.0,\n",
       " -0.0772,\n",
       " -0.4023,\n",
       " 0.2263,\n",
       " -0.5423,\n",
       " -0.7469,\n",
       " -0.2732,\n",
       " 0.5023,\n",
       " -0.6808,\n",
       " -0.9169,\n",
       " -0.3182,\n",
       " -0.4767,\n",
       " -0.128,\n",
       " 0.1779,\n",
       " 0.0,\n",
       " 0.1779,\n",
       " -0.2201,\n",
       " 0.6943,\n",
       " 0.0276,\n",
       " 0.1526,\n",
       " 0.0,\n",
       " -0.6369,\n",
       " -0.8553,\n",
       " -0.34,\n",
       " -0.5994,\n",
       " 0.7425,\n",
       " 0.2382,\n",
       " -0.296,\n",
       " 0.0,\n",
       " 0.5423,\n",
       " 0.2732,\n",
       " 0.6249,\n",
       " -0.3612,\n",
       " -0.0258,\n",
       " 0.4019,\n",
       " -0.3612,\n",
       " -0.5023,\n",
       " 0.2144,\n",
       " 0.5574,\n",
       " -0.2023,\n",
       " 0.6858,\n",
       " 0.3412,\n",
       " 0.0,\n",
       " 0.8462,\n",
       " 0.0,\n",
       " -0.6297,\n",
       " 0.1531,\n",
       " 0.0,\n",
       " 0.0,\n",
       " -0.3182,\n",
       " -0.4215,\n",
       " -0.3612,\n",
       " 0.2846,\n",
       " 0.0,\n",
       " 0.7964,\n",
       " -0.4404,\n",
       " 0.0,\n",
       " 0.3182,\n",
       " -0.8074,\n",
       " 0.2609,\n",
       " -0.7964,\n",
       " 0.3612,\n",
       " -0.1531,\n",
       " -0.5334,\n",
       " 0.2382,\n",
       " 0.0,\n",
       " 0.1027,\n",
       " 0.3291,\n",
       " 0.2944,\n",
       " 0.0,\n",
       " -0.4404,\n",
       " 0.1779,\n",
       " -0.6908,\n",
       " 0.8218,\n",
       " 0.7096,\n",
       " 0.0,\n",
       " -0.5106,\n",
       " -0.1285,\n",
       " 0.34,\n",
       " 0.4927,\n",
       " 0.6705,\n",
       " 0.1139,\n",
       " 0.2732,\n",
       " 0.0,\n",
       " 0.7771,\n",
       " 0.0,\n",
       " 0.3839,\n",
       " 0.3612,\n",
       " -0.1531,\n",
       " -0.5423,\n",
       " 0.0,\n",
       " 0.8834,\n",
       " -0.5574,\n",
       " 0.4744,\n",
       " 0.0,\n",
       " 0.2023,\n",
       " 0.6094,\n",
       " 0.5106,\n",
       " 0.0,\n",
       " -0.0516,\n",
       " 0.3016,\n",
       " -0.5719,\n",
       " -0.6124,\n",
       " -0.8316,\n",
       " 0.0191,\n",
       " 0.5994,\n",
       " 0.0,\n",
       " -0.5719,\n",
       " -0.4019,\n",
       " 0.0,\n",
       " 0.5859,\n",
       " -0.5563,\n",
       " -0.34,\n",
       " 0.4404,\n",
       " 0.0,\n",
       " 0.4215,\n",
       " -0.128,\n",
       " -0.3612,\n",
       " -0.7876,\n",
       " -0.25,\n",
       " 0.5719,\n",
       " 0.5994,\n",
       " 0.1994,\n",
       " 0.0,\n",
       " 0.4588,\n",
       " 0.3716,\n",
       " -0.8481,\n",
       " -0.8292,\n",
       " -0.4927,\n",
       " 0.2144,\n",
       " -0.7579,\n",
       " 0.0,\n",
       " 0.0,\n",
       " 0.0,\n",
       " 0.5423,\n",
       " 0.0,\n",
       " -0.3559,\n",
       " -0.6956,\n",
       " -0.8971,\n",
       " 0.4287,\n",
       " -0.5106,\n",
       " 0.1531,\n",
       " 0.5994,\n",
       " -0.4019,\n",
       " -0.8519,\n",
       " 0.6696,\n",
       " 0.0258,\n",
       " 0.0,\n",
       " -0.128,\n",
       " -0.5733,\n",
       " 0.0,\n",
       " -0.5423,\n",
       " 0.0387,\n",
       " -0.1779,\n",
       " 0.2006,\n",
       " -0.5499,\n",
       " 0.3673,\n",
       " 0.0,\n",
       " 0.2732,\n",
       " -0.7346,\n",
       " -0.2732,\n",
       " 0.5994,\n",
       " 0.6124,\n",
       " -0.0772,\n",
       " 0.0,\n",
       " 0.0,\n",
       " -0.1189,\n",
       " 0.802,\n",
       " 0.6908,\n",
       " 0.296,\n",
       " 0.6249,\n",
       " -0.4588,\n",
       " -0.2565,\n",
       " 0.3818,\n",
       " -0.1027,\n",
       " -0.4404,\n",
       " -0.5994,\n",
       " 0.3682,\n",
       " 0.0,\n",
       " -0.8885,\n",
       " -0.5267,\n",
       " 0.5423,\n",
       " -0.785,\n",
       " -0.6808,\n",
       " -0.3182,\n",
       " -0.6908,\n",
       " 0.0,\n",
       " 0.6486,\n",
       " 0.7351,\n",
       " -0.0772,\n",
       " 0.0,\n",
       " -0.1119,\n",
       " 0.6249,\n",
       " 0.3612,\n",
       " 0.1027,\n",
       " -0.6361,\n",
       " 0.0,\n",
       " -0.4404,\n",
       " 0.3818,\n",
       " -0.34,\n",
       " -0.3612,\n",
       " 0.4118,\n",
       " 0.8174,\n",
       " 0.2732,\n",
       " -0.7845,\n",
       " 0.5719,\n",
       " 0.0,\n",
       " -0.6369,\n",
       " -0.7346,\n",
       " -0.4019,\n",
       " 0.0,\n",
       " 0.7026,\n",
       " 0.1655,\n",
       " 0.0258,\n",
       " 0.2023,\n",
       " 0.09,\n",
       " -0.7845,\n",
       " 0.0,\n",
       " 0.0,\n",
       " 0.0,\n",
       " -0.3612,\n",
       " -0.7506,\n",
       " -0.7501,\n",
       " 0.0,\n",
       " -0.7184,\n",
       " -0.6486,\n",
       " -0.68,\n",
       " 0.0,\n",
       " -0.6124,\n",
       " -0.6705,\n",
       " -0.1015,\n",
       " -0.128,\n",
       " 0.0,\n",
       " 0.3811,\n",
       " 0.926,\n",
       " -0.2732,\n",
       " -0.471,\n",
       " 0.4215,\n",
       " -0.2023,\n",
       " 0.8225,\n",
       " 0.6369,\n",
       " -0.0909,\n",
       " 0.296,\n",
       " 0.0258,\n",
       " 0.7906,\n",
       " -0.687,\n",
       " 0.0,\n",
       " 0.0,\n",
       " 0.1706,\n",
       " 0.5719,\n",
       " 0.0,\n",
       " -0.4549,\n",
       " 0.0,\n",
       " 0.0,\n",
       " -0.3612,\n",
       " -0.34,\n",
       " 0.7717,\n",
       " 0.0,\n",
       " -0.6485,\n",
       " -0.1043,\n",
       " -0.4215,\n",
       " -0.0459,\n",
       " 0.3612,\n",
       " 0.0,\n",
       " -0.4215,\n",
       " 0.3818,\n",
       " 0.1227,\n",
       " 0.5994,\n",
       " 0.5106,\n",
       " 0.4767,\n",
       " 0.0,\n",
       " 0.0772,\n",
       " -0.4215,\n",
       " -0.6771,\n",
       " 0.2846,\n",
       " 0.0772,\n",
       " -0.3612,\n",
       " 0.3291,\n",
       " -0.7506,\n",
       " 0.8201,\n",
       " 0.4588,\n",
       " 0.0,\n",
       " 0.0,\n",
       " 0.0,\n",
       " -0.7845,\n",
       " 0.0,\n",
       " 0.5574,\n",
       " 0.0,\n",
       " -0.431,\n",
       " -0.1869,\n",
       " 0.8998,\n",
       " 0.0,\n",
       " -0.6897,\n",
       " -0.3477,\n",
       " -0.25,\n",
       " -0.0516,\n",
       " -0.5719,\n",
       " -0.8689,\n",
       " -0.6369,\n",
       " 0.8176,\n",
       " 0.0,\n",
       " -0.3896,\n",
       " 0.4019,\n",
       " 0.3612,\n",
       " -0.2263,\n",
       " -0.4588,\n",
       " -0.411,\n",
       " 0.6956,\n",
       " -0.6249,\n",
       " -0.7015,\n",
       " -0.5267,\n",
       " -0.3976,\n",
       " 0.296,\n",
       " 0.4215,\n",
       " -0.836,\n",
       " 0.4404,\n",
       " 0.0,\n",
       " 0.5267,\n",
       " 0.0,\n",
       " 0.0,\n",
       " -0.101,\n",
       " -0.1027,\n",
       " -0.8316,\n",
       " -0.4767,\n",
       " 0.4767,\n",
       " 0.4019,\n",
       " -0.128,\n",
       " 0.0,\n",
       " 0.2732,\n",
       " -0.5078,\n",
       " 0.5859,\n",
       " -0.296,\n",
       " -0.192,\n",
       " -0.6492,\n",
       " 0.4497,\n",
       " -0.0516,\n",
       " -0.2023,\n",
       " 0.0,\n",
       " -0.4588,\n",
       " 0.6486,\n",
       " 0.2263,\n",
       " 0.3415,\n",
       " 0.2681,\n",
       " -0.5267,\n",
       " 0.3612,\n",
       " 0.0,\n",
       " 0.6486,\n",
       " 0.0,\n",
       " 0.1027,\n",
       " 0.5859,\n",
       " -0.3089,\n",
       " 0.0,\n",
       " 0.0,\n",
       " 0.7994,\n",
       " -0.4404,\n",
       " -0.4215,\n",
       " 0.0,\n",
       " -0.34,\n",
       " 0.5423,\n",
       " 0.4588,\n",
       " 0.6597,\n",
       " 0.128,\n",
       " -0.4019,\n",
       " 0.0258,\n",
       " 0.0,\n",
       " 0.7605,\n",
       " -0.7717,\n",
       " 0.0,\n",
       " 0.296,\n",
       " 0.0018,\n",
       " 0.2732,\n",
       " 0.2732,\n",
       " -0.5367,\n",
       " -0.8074,\n",
       " -0.34,\n",
       " 0.6808,\n",
       " 0.0422,\n",
       " 0.2363,\n",
       " -0.4019,\n",
       " 0.0,\n",
       " -0.8353,\n",
       " -0.6486,\n",
       " -0.836,\n",
       " 0.0,\n",
       " 0.4201,\n",
       " 0.0,\n",
       " 0.1406,\n",
       " 0.4019,\n",
       " 0.2732,\n",
       " 0.0,\n",
       " 0.5898,\n",
       " 0.0,\n",
       " 0.0,\n",
       " ...]"
      ]
     },
     "execution_count": 46,
     "metadata": {},
     "output_type": "execute_result"
    }
   ],
   "source": [
    "#python syntax for applying a function to each element of a list\n",
    "[vaderSentiment(oneNegativeReview) for oneNegativeReview in negativeReviews ]"
   ]
  },
  {
   "cell_type": "code",
   "execution_count": 47,
   "metadata": {},
   "outputs": [],
   "source": [
    "#code reuse with getReviewSentiments\n",
    "#Create a function that takes in a function object and applies to all reviews"
   ]
  },
  {
   "cell_type": "code",
   "execution_count": 48,
   "metadata": {},
   "outputs": [],
   "source": [
    "def getReviewSentiments(sentimentCalclator):\n",
    "    negReviewResult = [sentimentCalclator(oneNegativeReview) for oneNegativeReview in negativeReviews ]\n",
    "    posReviewResult = [sentimentCalclator(onePositiveReview) for onePositiveReview in positiveReviews ]\n",
    "    return {'results-on-positive': posReviewResult , 'results-on-negative': negReviewResult}"
   ]
  },
  {
   "cell_type": "code",
   "execution_count": 49,
   "metadata": {},
   "outputs": [],
   "source": [
    "vaderResults= getReviewSentiments(vaderSentiment)"
   ]
  },
  {
   "cell_type": "code",
   "execution_count": 50,
   "metadata": {},
   "outputs": [
    {
     "name": "stdout",
     "output_type": "stream",
     "text": [
      "<type 'dict'>\n"
     ]
    }
   ],
   "source": [
    "print(type(vaderResults))"
   ]
  },
  {
   "cell_type": "code",
   "execution_count": 51,
   "metadata": {},
   "outputs": [
    {
     "data": {
      "text/plain": [
       "['results-on-negative', 'results-on-positive']"
      ]
     },
     "execution_count": 51,
     "metadata": {},
     "output_type": "execute_result"
    }
   ],
   "source": [
    "vaderResults.keys()"
   ]
  },
  {
   "cell_type": "code",
   "execution_count": 52,
   "metadata": {},
   "outputs": [
    {
     "data": {
      "text/plain": [
       "5331"
      ]
     },
     "execution_count": 52,
     "metadata": {},
     "output_type": "execute_result"
    }
   ],
   "source": [
    "len(vaderResults['results-on-negative'])"
   ]
  },
  {
   "cell_type": "code",
   "execution_count": 53,
   "metadata": {},
   "outputs": [
    {
     "data": {
      "text/plain": [
       "0.0258"
      ]
     },
     "execution_count": 53,
     "metadata": {},
     "output_type": "execute_result"
    }
   ],
   "source": [
    "vaderResults['results-on-negative'][0]"
   ]
  },
  {
   "cell_type": "code",
   "execution_count": 54,
   "metadata": {},
   "outputs": [],
   "source": [
    "#Calculate accuracy on Positive Reviews\n",
    "# % of positive reviews that VADER classified as positive(correctly) "
   ]
  },
  {
   "cell_type": "code",
   "execution_count": 55,
   "metadata": {},
   "outputs": [],
   "source": [
    "def runDiagnostics(reviewResult):\n",
    "    positiveReviewsResult = reviewResult['results-on-positive']\n",
    "    negativeReviewsResult = reviewResult['results-on-negative']\n",
    "    \n",
    "    pctTruePositive = float(sum(x>0 for x in positiveReviewsResult))/len(positiveReviewsResult)\n",
    "    pctTrueNegative = float(sum(x<0 for x in negativeReviewsResult))/len(negativeReviewsResult)\n",
    "    \n",
    "    totalAccurate = float(sum(x>0 for x in positiveReviewsResult))+ float(sum(x<0 for x in negativeReviewsResult))\n",
    "    \n",
    "    total = len(positiveReviewsResult) +len(negativeReviewsResult)\n",
    "    \n",
    "    print \"Accuracy on positive reviews = \" + \"%.2f\" % (pctTruePositive*100) + \"%\"\n",
    "    print \"Accuracy on negative reviews = \" + \"%.2f\" % (pctTrueNegative*100) + \"%\"\n",
    "    print \"Accuracy Overall = \" + \"%.2f\" % (totalAccurate*100/ total) + \"%\"\n",
    "    "
   ]
  },
  {
   "cell_type": "code",
   "execution_count": 56,
   "metadata": {},
   "outputs": [
    {
     "name": "stdout",
     "output_type": "stream",
     "text": [
      "Accuracy on positive reviews = 69.44%\n",
      "Accuracy on negative reviews = 42.24%\n",
      "Accuracy Overall = 54.76%\n"
     ]
    }
   ],
   "source": [
    "runDiagnostics(getReviewSentiments(vaderSentiment))"
   ]
  }
 ],
 "metadata": {
  "kernelspec": {
   "display_name": "Python 3",
   "language": "python",
   "name": "python3"
  },
  "language_info": {
   "codemirror_mode": {
    "name": "ipython",
    "version": 3
   },
   "file_extension": ".py",
   "mimetype": "text/x-python",
   "name": "python",
   "nbconvert_exporter": "python",
   "pygments_lexer": "ipython3",
   "version": "3.6.4"
  }
 },
 "nbformat": 4,
 "nbformat_minor": 2
}
