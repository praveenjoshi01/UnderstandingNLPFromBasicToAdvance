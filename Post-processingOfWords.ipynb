{
 "cells": [
  {
   "cell_type": "code",
   "execution_count": 193,
   "metadata": {},
   "outputs": [],
   "source": [
    "from pycontractions import Contractions\n",
    "from nltk import word_tokenize\n",
    "#Peter Norvig \n",
    "from spellchecker import SpellChecker\n",
    "from weighted_levenshtein import lev\n",
    "import re\n",
    "import numpy as np\n",
    "from nltk.tokenize.treebank import TreebankWordDetokenizer"
   ]
  },
  {
   "cell_type": "code",
   "execution_count": 2,
   "metadata": {},
   "outputs": [],
   "source": [
    "contractions = Contractions('GoogleNews-vectors-negative300.bin.gz')\n",
    "contractions.load_models()"
   ]
  },
  {
   "cell_type": "code",
   "execution_count": 194,
   "metadata": {},
   "outputs": [],
   "source": [
    "raw_text = [\"I'd like to know how I'd done that!\",\n",
    "                            \"We're going to the zoo and I don't think I'll be home for dinner.\",\n",
    "                            \"Unetek\",\n",
    "                            \"Theyre going to the zoo and she'll be home for dinner.\"]"
   ]
  },
  {
   "cell_type": "code",
   "execution_count": 195,
   "metadata": {},
   "outputs": [],
   "source": [
    "expanded_text=list(contractions.expand_texts(raw_text, precise=True))"
   ]
  },
  {
   "cell_type": "code",
   "execution_count": 196,
   "metadata": {},
   "outputs": [],
   "source": [
    "tokenised_list = [word_tokenize(sentence) for sentence in expanded_text]"
   ]
  },
  {
   "cell_type": "code",
   "execution_count": 197,
   "metadata": {},
   "outputs": [],
   "source": [
    "spell = SpellChecker(language='en',distance=1) \n",
    "spell.word_frequency.load_text_file('big.txt')\n",
    "\n",
    "#spell.word_frequency.load_text_file('Europarl corpus')\n",
    "spell.word_frequency.load_text('unitek')"
   ]
  },
  {
   "cell_type": "code",
   "execution_count": 198,
   "metadata": {},
   "outputs": [],
   "source": [
    "corrected_list =[]\n",
    "for sentence in tokenised_list:\n",
    "    sent_list=[]\n",
    "    for word in sentence:\n",
    "        \n",
    "        small_org_word= word.lower()\n",
    "        correct_word =spell.correction(small_org_word)\n",
    "        \n",
    "        difference = lev(correct_word, small_org_word)/len(correct_word)\n",
    "        \n",
    "        if difference > 0.1:\n",
    "            sent_list.append( correct_word)\n",
    "        else:\n",
    "            sent_list.append( word)\n",
    "    corrected_list.append(sent_list)"
   ]
  },
  {
   "cell_type": "code",
   "execution_count": 199,
   "metadata": {},
   "outputs": [],
   "source": [
    "untokenised_list = [TreebankWordDetokenizer().detokenize(sentence) for sentence in corrected_list]"
   ]
  },
  {
   "cell_type": "code",
   "execution_count": 200,
   "metadata": {},
   "outputs": [],
   "source": [
    "decontracted_text = list(contractions.contract_texts(untokenised_list))"
   ]
  },
  {
   "cell_type": "code",
   "execution_count": 201,
   "metadata": {},
   "outputs": [
    {
     "name": "stdout",
     "output_type": "stream",
     "text": [
      "Mean CER = 9.643874643874643\n"
     ]
    }
   ],
   "source": [
    "cer =[]\n",
    "for org_text, new_text in zip(raw_text,decontracted_text):\n",
    "    dist = levenshtein(new_text, org_text)\n",
    "    length = len(org_text)\n",
    "    cer.append(dist/length)\n",
    "print(\"Mean CER = {}\".format(100*np.mean(cer)))"
   ]
  },
  {
   "cell_type": "code",
   "execution_count": null,
   "metadata": {},
   "outputs": [],
   "source": []
  }
 ],
 "metadata": {
  "kernelspec": {
   "display_name": "Python 3",
   "language": "python",
   "name": "python3"
  },
  "language_info": {
   "codemirror_mode": {
    "name": "ipython",
    "version": 3
   },
   "file_extension": ".py",
   "mimetype": "text/x-python",
   "name": "python",
   "nbconvert_exporter": "python",
   "pygments_lexer": "ipython3",
   "version": "3.6.5"
  }
 },
 "nbformat": 4,
 "nbformat_minor": 2
}
